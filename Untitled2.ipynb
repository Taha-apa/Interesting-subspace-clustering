{
 "cells": [
  {
   "cell_type": "code",
   "execution_count": 4,
   "id": "157bc207",
   "metadata": {},
   "outputs": [
    {
     "data": {
      "text/html": [
       "<div>\n",
       "<style scoped>\n",
       "    .dataframe tbody tr th:only-of-type {\n",
       "        vertical-align: middle;\n",
       "    }\n",
       "\n",
       "    .dataframe tbody tr th {\n",
       "        vertical-align: top;\n",
       "    }\n",
       "\n",
       "    .dataframe thead th {\n",
       "        text-align: right;\n",
       "    }\n",
       "</style>\n",
       "<table border=\"1\" class=\"dataframe\">\n",
       "  <thead>\n",
       "    <tr style=\"text-align: right;\">\n",
       "      <th></th>\n",
       "      <th>Recency (months)</th>\n",
       "      <th>Frequency (times)</th>\n",
       "      <th>Monetary (c.c. blood)</th>\n",
       "      <th>Time (months)</th>\n",
       "      <th>whether he/she donated blood in March 2007</th>\n",
       "    </tr>\n",
       "  </thead>\n",
       "  <tbody>\n",
       "    <tr>\n",
       "      <th>0</th>\n",
       "      <td>2</td>\n",
       "      <td>50</td>\n",
       "      <td>12500</td>\n",
       "      <td>98</td>\n",
       "      <td>1</td>\n",
       "    </tr>\n",
       "    <tr>\n",
       "      <th>1</th>\n",
       "      <td>0</td>\n",
       "      <td>13</td>\n",
       "      <td>3250</td>\n",
       "      <td>28</td>\n",
       "      <td>1</td>\n",
       "    </tr>\n",
       "    <tr>\n",
       "      <th>2</th>\n",
       "      <td>1</td>\n",
       "      <td>16</td>\n",
       "      <td>4000</td>\n",
       "      <td>35</td>\n",
       "      <td>1</td>\n",
       "    </tr>\n",
       "    <tr>\n",
       "      <th>3</th>\n",
       "      <td>2</td>\n",
       "      <td>20</td>\n",
       "      <td>5000</td>\n",
       "      <td>45</td>\n",
       "      <td>1</td>\n",
       "    </tr>\n",
       "    <tr>\n",
       "      <th>4</th>\n",
       "      <td>1</td>\n",
       "      <td>24</td>\n",
       "      <td>6000</td>\n",
       "      <td>77</td>\n",
       "      <td>0</td>\n",
       "    </tr>\n",
       "  </tbody>\n",
       "</table>\n",
       "</div>"
      ],
      "text/plain": [
       "   Recency (months)  Frequency (times)  Monetary (c.c. blood)  Time (months)  \\\n",
       "0                 2                 50                  12500             98   \n",
       "1                 0                 13                   3250             28   \n",
       "2                 1                 16                   4000             35   \n",
       "3                 2                 20                   5000             45   \n",
       "4                 1                 24                   6000             77   \n",
       "\n",
       "   whether he/she donated blood in March 2007  \n",
       "0                                           1  \n",
       "1                                           1  \n",
       "2                                           1  \n",
       "3                                           1  \n",
       "4                                           0  "
      ]
     },
     "execution_count": 4,
     "metadata": {},
     "output_type": "execute_result"
    }
   ],
   "source": [
    "import numpy as np\n",
    "import pandas as pd\n",
    "import os\n",
    "datasetFolder = \"isc_datasets\"\n",
    "def loadData_txt(filename,delimiter):\n",
    "    filePath = os.path.join(datasetFolder,filename + \".txt\")\n",
    "    return pd.read_table(filePath,delimiter = delimiter)\n",
    "dataset = loadData_txt(\"transfusionData\",',')\n",
    "dataset.head()"
   ]
  },
  {
   "cell_type": "code",
   "execution_count": 5,
   "id": "6bd5018c",
   "metadata": {},
   "outputs": [
    {
     "name": "stdout",
     "output_type": "stream",
     "text": [
      "[[    2    50 12500    98     1]\n",
      " [    0    13  3250    28     1]\n",
      " [    1    16  4000    35     1]\n",
      " ...\n",
      " [   23     3   750    62     0]\n",
      " [   39     1   250    39     0]\n",
      " [   72     1   250    72     0]]\n"
     ]
    }
   ],
   "source": [
    "transfusionData = dataset.to_numpy()\n",
    "print(transfusionData)\n"
   ]
  },
  {
   "cell_type": "code",
   "execution_count": 8,
   "id": "a311a26f",
   "metadata": {},
   "outputs": [
    {
     "ename": "AttributeError",
     "evalue": "'numpy.ndarray' object has no attribute 'split'",
     "output_type": "error",
     "traceback": [
      "\u001b[1;31m---------------------------------------------------------------------------\u001b[0m",
      "\u001b[1;31mAttributeError\u001b[0m                            Traceback (most recent call last)",
      "Input \u001b[1;32mIn [8]\u001b[0m, in \u001b[0;36m<cell line: 1>\u001b[1;34m()\u001b[0m\n\u001b[1;32m----> 1\u001b[0m \u001b[43mtransfusionData\u001b[49m\u001b[38;5;241;43m.\u001b[39;49m\u001b[43msplit\u001b[49m(axis\u001b[38;5;241m=\u001b[39m\u001b[38;5;241m1\u001b[39m)\n",
      "\u001b[1;31mAttributeError\u001b[0m: 'numpy.ndarray' object has no attribute 'split'"
     ]
    }
   ],
   "source": [
    "transfusionData.split(axis=1)"
   ]
  },
  {
   "cell_type": "code",
   "execution_count": 11,
   "id": "6842931c",
   "metadata": {},
   "outputs": [
    {
     "name": "stdout",
     "output_type": "stream",
     "text": [
      "0       2\n",
      "1       0\n",
      "2       1\n",
      "3       2\n",
      "4       1\n",
      "       ..\n",
      "743    23\n",
      "744    21\n",
      "745    23\n",
      "746    39\n",
      "747    72\n",
      "Name: Recency (months), Length: 748, dtype: int64\n",
      "0      50\n",
      "1      13\n",
      "2      16\n",
      "3      20\n",
      "4      24\n",
      "       ..\n",
      "743     2\n",
      "744     2\n",
      "745     3\n",
      "746     1\n",
      "747     1\n",
      "Name: Frequency (times), Length: 748, dtype: int64\n",
      "0      12500\n",
      "1       3250\n",
      "2       4000\n",
      "3       5000\n",
      "4       6000\n",
      "       ...  \n",
      "743      500\n",
      "744      500\n",
      "745      750\n",
      "746      250\n",
      "747      250\n",
      "Name: Monetary (c.c. blood), Length: 748, dtype: int64\n",
      "0      98\n",
      "1      28\n",
      "2      35\n",
      "3      45\n",
      "4      77\n",
      "       ..\n",
      "743    38\n",
      "744    52\n",
      "745    62\n",
      "746    39\n",
      "747    72\n",
      "Name: Time (months), Length: 748, dtype: int64\n",
      "0      1\n",
      "1      1\n",
      "2      1\n",
      "3      1\n",
      "4      0\n",
      "      ..\n",
      "743    0\n",
      "744    0\n",
      "745    0\n",
      "746    0\n",
      "747    0\n",
      "Name: whether he/she donated blood in March 2007, Length: 748, dtype: int64\n"
     ]
    }
   ],
   "source": [
    "colsSize = len(dataset.columns)\n",
    "for col in dataset.columns:\n",
    "    print(dataset.loc[:,col])\n",
    "    "
   ]
  },
  {
   "cell_type": "code",
   "execution_count": null,
   "id": "c4b68729",
   "metadata": {},
   "outputs": [],
   "source": []
  }
 ],
 "metadata": {
  "kernelspec": {
   "display_name": "Python 3 (ipykernel)",
   "language": "python",
   "name": "python3"
  },
  "language_info": {
   "codemirror_mode": {
    "name": "ipython",
    "version": 3
   },
   "file_extension": ".py",
   "mimetype": "text/x-python",
   "name": "python",
   "nbconvert_exporter": "python",
   "pygments_lexer": "ipython3",
   "version": "3.10.4"
  }
 },
 "nbformat": 4,
 "nbformat_minor": 5
}
