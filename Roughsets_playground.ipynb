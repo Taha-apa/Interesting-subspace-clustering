{
 "cells": [
  {
   "cell_type": "code",
   "execution_count": 20,
   "id": "a4d0db63",
   "metadata": {},
   "outputs": [
    {
     "name": "stdout",
     "output_type": "stream",
     "text": [
      "[[ 1  2  3  4  0  0  0  0  0  0]\n",
      " [ 0  0  0  0  5  6  7  8  0  0]\n",
      " [ 0  0  0  0  0  0  0  0  9 10]]\n"
     ]
    }
   ],
   "source": [
    "import numpy as np\n",
    "from scikit_roughsets.rs_reduction import RoughSetsReducer\n",
    "reducer = RoughSetsReducer()\n",
    "U = np.array([[0, 0],\n",
    "              [0, 0],\n",
    "              [0, 0],\n",
    "              [0, 1],\n",
    "              [1, 1],[1, 1], [1, 1], [1, 2], [2, 2], [2, 2]])\n",
    "X = np.array([1,2,3,5])\n",
    "B = np.array([1])\n",
    "print(reducer.indisc(B,U))"
   ]
  },
  {
   "cell_type": "code",
   "execution_count": 21,
   "id": "9c7d75d8",
   "metadata": {},
   "outputs": [
    {
     "ename": "AttributeError",
     "evalue": "'list' object has no attribute 'astype'",
     "output_type": "error",
     "traceback": [
      "\u001b[1;31m---------------------------------------------------------------------------\u001b[0m",
      "\u001b[1;31mAttributeError\u001b[0m                            Traceback (most recent call last)",
      "\u001b[1;32mc:\\Users\\TAHA\\HandsOnMachineLearningEnvironment\\Roughsets_playground.ipynb Cell 2\u001b[0m in \u001b[0;36m<cell line: 1>\u001b[1;34m()\u001b[0m\n\u001b[1;32m----> <a href='vscode-notebook-cell:/c%3A/Users/TAHA/HandsOnMachineLearningEnvironment/Roughsets_playground.ipynb#W1sZmlsZQ%3D%3D?line=0'>1</a>\u001b[0m \u001b[39mprint\u001b[39m(\u001b[39mlen\u001b[39m(reducer\u001b[39m.\u001b[39;49mrslower(X,B,U)))\n",
      "File \u001b[1;32mc:\\Users\\TAHA\\HandsOnMachineLearningEnvironment\\env\\lib\\site-packages\\scikit_roughsets\\roughsets.py:62\u001b[0m, in \u001b[0;36mRoughSetsReducer.rslower\u001b[1;34m(self, y, a, T)\u001b[0m\n\u001b[0;32m     60\u001b[0m     \u001b[39mif\u001b[39;00m np\u001b[39m.\u001b[39min1d(zz, y)\u001b[39m.\u001b[39mall():\n\u001b[0;32m     61\u001b[0m         w \u001b[39m=\u001b[39m np\u001b[39m.\u001b[39mhstack((w, zz))\n\u001b[1;32m---> 62\u001b[0m \u001b[39mreturn\u001b[39;00m w\u001b[39m.\u001b[39;49mastype(dtype\u001b[39m=\u001b[39m\u001b[39mint\u001b[39m)\n",
      "\u001b[1;31mAttributeError\u001b[0m: 'list' object has no attribute 'astype'"
     ]
    }
   ],
   "source": [
    "print(np.array(None))\n",
    "\n",
    "print(len(reducer.rslower(X,B,U)))"
   ]
  }
 ],
 "metadata": {
  "kernelspec": {
   "display_name": "Python 3.10.4 ('env': venv)",
   "language": "python",
   "name": "python3"
  },
  "language_info": {
   "codemirror_mode": {
    "name": "ipython",
    "version": 3
   },
   "file_extension": ".py",
   "mimetype": "text/x-python",
   "name": "python",
   "nbconvert_exporter": "python",
   "pygments_lexer": "ipython3",
   "version": "3.10.4"
  },
  "vscode": {
   "interpreter": {
    "hash": "4d95230bf306bf925c27b5488917e94ed269eb6ff20b3eb11517029f2ec7e5e3"
   }
  }
 },
 "nbformat": 4,
 "nbformat_minor": 5
}
