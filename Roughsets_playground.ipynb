{
 "cells": [
  {
   "cell_type": "code",
   "execution_count": 14,
   "id": "a4d0db63",
   "metadata": {},
   "outputs": [
    {
     "name": "stdout",
     "output_type": "stream",
     "text": [
      "[[ 1  2  3  4  0  0  0  0  0  0]\n",
      " [ 0  0  0  0  5  6  7  8  0  0]\n",
      " [ 0  0  0  0  0  0  0  0  9 10]]\n"
     ]
    }
   ],
   "source": [
    "import numpy as np\n",
    "from scikit_roughsets.roughsets import RoughSetsReducer\n",
    "reducer = RoughSetsReducer()\n",
    "U = np.array([[0, 0],\n",
    "              [0, 0],\n",
    "              [0, 0],\n",
    "              [0, 1],\n",
    "              [1, 1],[1, 1], [1, 1], [1, 2], [2, 2], [2, 2]])\n",
    "X = np.array([[1,2,3,5]])\n",
    "B = np.array([1])\n",
    "print(reducer.indisc(B,U))"
   ]
  },
  {
   "cell_type": "code",
   "execution_count": 19,
   "id": "9c7d75d8",
   "metadata": {},
   "outputs": [
    {
     "name": "stdout",
     "output_type": "stream",
     "text": [
      "None\n",
      "0\n",
      "(1, 3)\n",
      "0\n",
      "1\n",
      "2\n"
     ]
    }
   ],
   "source": [
    "print(np.array(None))\n",
    "\n",
    "print(len(reducer.rslower(X,B,U)))\n",
    "c =np.array([1,2,3])\n",
    "def __size(x):\n",
    "        return (1, x.shape[0]) if x.ndim == 1 else x.shape\n",
    "print(__size(c))\n",
    "cr,cc = __size(c)\n",
    "for i in range(0,cc):\n",
    "    print(i)"
   ]
  }
 ],
 "metadata": {
  "kernelspec": {
   "display_name": "Python 3.10.4 ('env': venv)",
   "language": "python",
   "name": "python3"
  },
  "language_info": {
   "codemirror_mode": {
    "name": "ipython",
    "version": 3
   },
   "file_extension": ".py",
   "mimetype": "text/x-python",
   "name": "python",
   "nbconvert_exporter": "python",
   "pygments_lexer": "ipython3",
   "version": "3.10.4"
  },
  "vscode": {
   "interpreter": {
    "hash": "4d95230bf306bf925c27b5488917e94ed269eb6ff20b3eb11517029f2ec7e5e3"
   }
  }
 },
 "nbformat": 4,
 "nbformat_minor": 5
}
