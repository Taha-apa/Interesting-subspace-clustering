{
 "cells": [
  {
   "cell_type": "code",
   "execution_count": 15,
   "id": "a4d0db63",
   "metadata": {},
   "outputs": [
    {
     "name": "stdout",
     "output_type": "stream",
     "text": [
      "[1 2 3]\n"
     ]
    }
   ],
   "source": [
    "import numpy as np\n",
    "from scikit_roughsets.rs_reduction import RoughSetsReducer\n",
    "reducer = RoughSetsReducer()\n",
    "S = np.array([[0, 0],\n",
    "              [0, 0],\n",
    "              [0, 0],\n",
    "              [0, 1],\n",
    "              [1, 1],[1, 1], [1, 1], [1, 2], [2, 2], [2, 2]])\n",
    "X = np.array([1, 2,3,5])\n",
    "a = np.array([1,2])\n",
    "print(reducer.rslower(X,a,S))"
   ]
  },
  {
   "cell_type": "code",
   "execution_count": null,
   "id": "9c7d75d8",
   "metadata": {},
   "outputs": [],
   "source": []
  }
 ],
 "metadata": {
  "kernelspec": {
   "display_name": "Python 3 (ipykernel)",
   "language": "python",
   "name": "python3"
  },
  "language_info": {
   "codemirror_mode": {
    "name": "ipython",
    "version": 3
   },
   "file_extension": ".py",
   "mimetype": "text/x-python",
   "name": "python",
   "nbconvert_exporter": "python",
   "pygments_lexer": "ipython3",
   "version": "3.10.4"
  }
 },
 "nbformat": 4,
 "nbformat_minor": 5
}
