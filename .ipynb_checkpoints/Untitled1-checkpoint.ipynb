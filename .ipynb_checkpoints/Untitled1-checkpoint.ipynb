{
 "cells": [
  {
   "cell_type": "code",
   "execution_count": 91,
   "id": "c3d674a5",
   "metadata": {},
   "outputs": [],
   "source": [
    "import os\n",
    "import pandas as pd\n",
    "import numpy as np\n",
    "def load_dataset(theDatasetFolder):\n",
    "    datasets_folder = \"datasets\"\n",
    "    csv_folder = os.path.join(datasets_folder,theDatasetFolder)\n",
    "    #the folder name and csv file should match\n",
    "    csv_path = os.path.join(csv_folder,theDatasetFolder + \".csv\")\n",
    "    return pd.read_csv(csv_path)"
   ]
  },
  {
   "cell_type": "code",
   "execution_count": 92,
   "id": "30592789",
   "metadata": {
    "scrolled": true
   },
   "outputs": [
    {
     "data": {
      "text/html": [
       "<div>\n",
       "<style scoped>\n",
       "    .dataframe tbody tr th:only-of-type {\n",
       "        vertical-align: middle;\n",
       "    }\n",
       "\n",
       "    .dataframe tbody tr th {\n",
       "        vertical-align: top;\n",
       "    }\n",
       "\n",
       "    .dataframe thead th {\n",
       "        text-align: right;\n",
       "    }\n",
       "</style>\n",
       "<table border=\"1\" class=\"dataframe\">\n",
       "  <thead>\n",
       "    <tr style=\"text-align: right;\">\n",
       "      <th></th>\n",
       "      <th>Area</th>\n",
       "      <th>MajorAxisLength</th>\n",
       "      <th>MinorAxisLength</th>\n",
       "      <th>Eccentricity</th>\n",
       "      <th>ConvexArea</th>\n",
       "      <th>Extent</th>\n",
       "      <th>Perimeter</th>\n",
       "      <th>Class</th>\n",
       "    </tr>\n",
       "  </thead>\n",
       "  <tbody>\n",
       "    <tr>\n",
       "      <th>0</th>\n",
       "      <td>87524</td>\n",
       "      <td>442.246011</td>\n",
       "      <td>253.291155</td>\n",
       "      <td>0.819738</td>\n",
       "      <td>90546</td>\n",
       "      <td>0.758651</td>\n",
       "      <td>1184.040</td>\n",
       "      <td>0</td>\n",
       "    </tr>\n",
       "    <tr>\n",
       "      <th>1</th>\n",
       "      <td>75166</td>\n",
       "      <td>406.690687</td>\n",
       "      <td>243.032436</td>\n",
       "      <td>0.801805</td>\n",
       "      <td>78789</td>\n",
       "      <td>0.684130</td>\n",
       "      <td>1121.786</td>\n",
       "      <td>0</td>\n",
       "    </tr>\n",
       "    <tr>\n",
       "      <th>2</th>\n",
       "      <td>90856</td>\n",
       "      <td>442.267048</td>\n",
       "      <td>266.328318</td>\n",
       "      <td>0.798354</td>\n",
       "      <td>93717</td>\n",
       "      <td>0.637613</td>\n",
       "      <td>1208.575</td>\n",
       "      <td>0</td>\n",
       "    </tr>\n",
       "    <tr>\n",
       "      <th>3</th>\n",
       "      <td>45928</td>\n",
       "      <td>286.540559</td>\n",
       "      <td>208.760042</td>\n",
       "      <td>0.684989</td>\n",
       "      <td>47336</td>\n",
       "      <td>0.699599</td>\n",
       "      <td>844.162</td>\n",
       "      <td>0</td>\n",
       "    </tr>\n",
       "    <tr>\n",
       "      <th>4</th>\n",
       "      <td>79408</td>\n",
       "      <td>352.190770</td>\n",
       "      <td>290.827533</td>\n",
       "      <td>0.564011</td>\n",
       "      <td>81463</td>\n",
       "      <td>0.792772</td>\n",
       "      <td>1073.251</td>\n",
       "      <td>0</td>\n",
       "    </tr>\n",
       "  </tbody>\n",
       "</table>\n",
       "</div>"
      ],
      "text/plain": [
       "    Area  MajorAxisLength  MinorAxisLength  Eccentricity  ConvexArea  \\\n",
       "0  87524       442.246011       253.291155      0.819738       90546   \n",
       "1  75166       406.690687       243.032436      0.801805       78789   \n",
       "2  90856       442.267048       266.328318      0.798354       93717   \n",
       "3  45928       286.540559       208.760042      0.684989       47336   \n",
       "4  79408       352.190770       290.827533      0.564011       81463   \n",
       "\n",
       "     Extent  Perimeter  Class  \n",
       "0  0.758651   1184.040      0  \n",
       "1  0.684130   1121.786      0  \n",
       "2  0.637613   1208.575      0  \n",
       "3  0.699599    844.162      0  \n",
       "4  0.792772   1073.251      0  "
      ]
     },
     "execution_count": 92,
     "metadata": {},
     "output_type": "execute_result"
    }
   ],
   "source": [
    "#the excel file is the original.in the .csv file the class values have changed to 0,1 for easier dataset use\n",
    "dataset = load_dataset(\"Raisin_Dataset\")\n",
    "dataset.head()"
   ]
  },
  {
   "cell_type": "code",
   "execution_count": 93,
   "id": "ee3942a9",
   "metadata": {},
   "outputs": [],
   "source": [
    "testData = dataset.sample(frac=0.3,ignore_index=True).copy()\n",
    "unlabelledTrainData = dataset.sample(frac=0.4,ignore_index=True).copy()\n",
    "labelledTrainData = dataset.sample(frac=0.3,ignore_index=True).copy()\n",
    "testData_x = testData.iloc[:,0:7]\n",
    "testData_y = testData.iloc[:,7]"
   ]
  },
  {
   "cell_type": "code",
   "execution_count": 94,
   "id": "82d9241f",
   "metadata": {},
   "outputs": [
    {
     "name": "stdout",
     "output_type": "stream",
     "text": [
      "0.8148148148148148\n"
     ]
    }
   ],
   "source": [
    "from sklearn.linear_model import LogisticRegression\n",
    "#typical supervised learning here\n",
    "lr_sup = LogisticRegression()\n",
    "train_x_sup = labelledTrainData.iloc[:,0:7]\n",
    "train_y_sup = labelledTrainData.iloc[:,7]\n",
    "lr_sup.fit(train_x_sup,train_y_sup)\n",
    "#REMEMBER this accuracy cause it's gone get higher :) (maybe)\n",
    "print(lr_sup.score(testData_x,testData_y))"
   ]
  },
  {
   "cell_type": "code",
   "execution_count": 95,
   "id": "4f6f5692",
   "metadata": {},
   "outputs": [
    {
     "name": "stdout",
     "output_type": "stream",
     "text": [
      "0.8296296296296296\n"
     ]
    },
    {
     "name": "stderr",
     "output_type": "stream",
     "text": [
      "C:\\Users\\TAHA\\HandsOnMachineLearningEnvironment\\env\\lib\\site-packages\\sklearn\\linear_model\\_logistic.py:444: ConvergenceWarning: lbfgs failed to converge (status=1):\n",
      "STOP: TOTAL NO. of ITERATIONS REACHED LIMIT.\n",
      "\n",
      "Increase the number of iterations (max_iter) or scale the data as shown in:\n",
      "    https://scikit-learn.org/stable/modules/preprocessing.html\n",
      "Please also refer to the documentation for alternative solver options:\n",
      "    https://scikit-learn.org/stable/modules/linear_model.html#logistic-regression\n",
      "  n_iter_i = _check_optimize_result(\n"
     ]
    }
   ],
   "source": [
    "#Now we can use the unlabelled data for better efficiency,BUT there aint no guarantee that our semi-supervised approach\n",
    "#will have a better performance(specially when supervised model works pretty much good)\n",
    "#self-training wrapping approach :\n",
    "#first we do psuedo-labelling for unlabelled data and then we'll use most confidence ones + train data to train a new model\n",
    "#we'll iterate until we run out of unlabelled data\n",
    "#decision_funcion is used to cal the amount of confidence, and we asuume that more than 5 confidence would be enough\n",
    "#UTD = unlabelled train data\n",
    "UTD_x = unlabelledTrainData.iloc[:,0:7]\n",
    "UTD_y = unlabelledTrainData.iloc[:,7]\n",
    "confidence_array = lr_sup.decision_function(UTD_x)\n",
    "def trainData_Refresh(currentLearner):\n",
    "    UTD_x = unlabelledTrainData.iloc[:,0:7]\n",
    "    UTD_y = unlabelledTrainData.iloc[:,7]\n",
    "    lbled = []\n",
    "    confidence_array = currentLearner.decision_function(UTD_x)\n",
    "    #MAYBE there might be a vectorized approach for these loops\n",
    "    for i in range(len(confidence_array)):\n",
    "        if confidence_array[i] > 5 or confidence_array[i] <-5:   \n",
    "            if  confidence_array[i] > 5:\n",
    "                unlabelledTrainData.at[i,\"Class\"] = 1\n",
    "            if  confidence_array[i] < -5:\n",
    "                unlabelledTrainData.at[i,\"Class\"] = 0\n",
    "            lbled.append(i)\n",
    "    for j in range(len(lbled)):\n",
    "        confRow = unlabelledTrainData.iloc[j,:]\n",
    "        labelledTrainData.loc[len(labelledTrainData.index)] = confRow\n",
    "        #labelledTrainData.append(confRow,ignore_index=True)\n",
    "        unlabelledTrainData.drop(j,inplace=True)\n",
    "        \n",
    "trainData_Refresh(lr_sup)\n",
    "while unlabelledTrainData.empty:\n",
    "    new_lr = LogisticRegression()\n",
    "    train_x = labelledTrainData.iloc[:,0:7]\n",
    "    train_y = labelledTrainData.iloc[:,7]\n",
    "    new_lr.fit(train_x,train_y)\n",
    "    trainData_Refresh(new_lr)\n",
    "#final_lr is our gateway if we want u use this trained model    \n",
    "final_lr = LogisticRegression()\n",
    "train_x = labelledTrainData.iloc[:,0:7]\n",
    "train_y = labelledTrainData.iloc[:,7]\n",
    "final_lr.fit(train_x,train_y)\n",
    "print(final_lr.score(testData_x,testData_y))   \n",
    "#DOWN below is self_trained wrapper accuracy.as i said there is no guarantee that it wont degrade performance"
   ]
  },
  {
   "cell_type": "code",
   "execution_count": null,
   "id": "6c29bad7",
   "metadata": {},
   "outputs": [],
   "source": []
  }
 ],
 "metadata": {
  "kernelspec": {
   "display_name": "Python 3 (ipykernel)",
   "language": "python",
   "name": "python3"
  },
  "language_info": {
   "codemirror_mode": {
    "name": "ipython",
    "version": 3
   },
   "file_extension": ".py",
   "mimetype": "text/x-python",
   "name": "python",
   "nbconvert_exporter": "python",
   "pygments_lexer": "ipython3",
   "version": "3.10.4"
  }
 },
 "nbformat": 4,
 "nbformat_minor": 5
}
